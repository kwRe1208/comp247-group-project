{
 "cells": [
  {
   "cell_type": "markdown",
   "metadata": {},
   "source": [
    "# Group Project - KSI data - Classification problem"
   ]
  },
  {
   "cell_type": "markdown",
   "metadata": {},
   "source": [
    "***Target Column***\n",
    "ACCLASS<br>\n",
    "Required to transform into binary (0, 1):<br>\n",
    "'Fatal' --> 1, <br>\n",
    "'Non-Fatal Injury' --> 0, <br>\n",
    "'Property Damage Only' --> 0, <br>\n",
    "***5 nan value from this column, we can consider to drop them***\n",
    "\n",
    "\n",
    "\n",
    "below columns need to fill values:\n",
    "'PEDESTRIAN', 'CYCLIST', 'AUTOMOBILE', 'MOTORCYCLE', 'TRUCK',\n",
    "'TRSN_CITY_VEH', 'EMERG_VEH', 'PASSENGER', 'SPEEDING', 'AG_DRIV',\n",
    "'REDLIGHT', 'ALCOHOL', 'DISABILITY'\n",
    "fill Nan as No, and transform to 0, 1\n",
    "(Default they are Yes, Nan values)\n",
    "ROAD_CLASS fill most freq value\n",
    "DISTRICT fill most freq value\n",
    "\n",
    "Questionable column:\n",
    "CYCCOND: multi categories, fill Nan as most freq value??\n",
    "\n",
    "\n",
    "From the dataset, below columns are unnecessary:\n",
    "ObjectId, HEIGHBOURHOOD_158, HEIGHBOURHOOD_140, CYCLISTYPE(too much categories and too much Nan value),<br>\n",
    "PEDCOND(too much categories and too much Nan value), PEDACT(too much categories and too much Nan value),<br>\n",
    "PEDTYPE (too much categories and too much Nan value), DRICOND ('other' included, means it is not a accuracy value), DRIVACT ('other' included, means it is not a accuracy value), MANOEUVER('other' included, means it is not a accuracy value)<br>\n",
    "FATAL_NO, INVTYPE, DATE, YEAR, ACCNUM, INDEX_, STREET1, STREET2, OFFSET, X, Y,INJURY\n",
    "\n"
   ]
  },
  {
   "cell_type": "code",
   "execution_count": 30,
   "metadata": {},
   "outputs": [],
   "source": [
    "import pandas as pd\n",
    "import numpy as np\n",
    "import seaborn as sns\n",
    "import matplotlib.pyplot as plt"
   ]
  },
  {
   "cell_type": "code",
   "execution_count": 2,
   "metadata": {},
   "outputs": [],
   "source": [
    "dataset_path = r'dataset\\KSI.csv'\n",
    "\n",
    "df = pd.read_csv(dataset_path)"
   ]
  },
  {
   "cell_type": "code",
   "execution_count": 3,
   "metadata": {},
   "outputs": [
    {
     "data": {
      "text/html": [
       "<div>\n",
       "<style scoped>\n",
       "    .dataframe tbody tr th:only-of-type {\n",
       "        vertical-align: middle;\n",
       "    }\n",
       "\n",
       "    .dataframe tbody tr th {\n",
       "        vertical-align: top;\n",
       "    }\n",
       "\n",
       "    .dataframe thead th {\n",
       "        text-align: right;\n",
       "    }\n",
       "</style>\n",
       "<table border=\"1\" class=\"dataframe\">\n",
       "  <thead>\n",
       "    <tr style=\"text-align: right;\">\n",
       "      <th></th>\n",
       "      <th>X</th>\n",
       "      <th>Y</th>\n",
       "      <th>INDEX_</th>\n",
       "      <th>ACCNUM</th>\n",
       "      <th>YEAR</th>\n",
       "      <th>DATE</th>\n",
       "      <th>TIME</th>\n",
       "      <th>STREET1</th>\n",
       "      <th>STREET2</th>\n",
       "      <th>OFFSET</th>\n",
       "      <th>...</th>\n",
       "      <th>AG_DRIV</th>\n",
       "      <th>REDLIGHT</th>\n",
       "      <th>ALCOHOL</th>\n",
       "      <th>DISABILITY</th>\n",
       "      <th>HOOD_158</th>\n",
       "      <th>NEIGHBOURHOOD_158</th>\n",
       "      <th>HOOD_140</th>\n",
       "      <th>NEIGHBOURHOOD_140</th>\n",
       "      <th>DIVISION</th>\n",
       "      <th>ObjectId</th>\n",
       "    </tr>\n",
       "  </thead>\n",
       "  <tbody>\n",
       "    <tr>\n",
       "      <th>0</th>\n",
       "      <td>-8.844611e+06</td>\n",
       "      <td>5.412414e+06</td>\n",
       "      <td>3387730</td>\n",
       "      <td>892658.0</td>\n",
       "      <td>2006</td>\n",
       "      <td>2006/03/11 05:00:00+00</td>\n",
       "      <td>852</td>\n",
       "      <td>BLOOR ST W</td>\n",
       "      <td>DUNDAS ST W</td>\n",
       "      <td>NaN</td>\n",
       "      <td>...</td>\n",
       "      <td>Yes</td>\n",
       "      <td>NaN</td>\n",
       "      <td>NaN</td>\n",
       "      <td>NaN</td>\n",
       "      <td>88</td>\n",
       "      <td>High Park North</td>\n",
       "      <td>88</td>\n",
       "      <td>High Park North (88)</td>\n",
       "      <td>D11</td>\n",
       "      <td>1</td>\n",
       "    </tr>\n",
       "    <tr>\n",
       "      <th>1</th>\n",
       "      <td>-8.844611e+06</td>\n",
       "      <td>5.412414e+06</td>\n",
       "      <td>3387731</td>\n",
       "      <td>892658.0</td>\n",
       "      <td>2006</td>\n",
       "      <td>2006/03/11 05:00:00+00</td>\n",
       "      <td>852</td>\n",
       "      <td>BLOOR ST W</td>\n",
       "      <td>DUNDAS ST W</td>\n",
       "      <td>NaN</td>\n",
       "      <td>...</td>\n",
       "      <td>Yes</td>\n",
       "      <td>NaN</td>\n",
       "      <td>NaN</td>\n",
       "      <td>NaN</td>\n",
       "      <td>88</td>\n",
       "      <td>High Park North</td>\n",
       "      <td>88</td>\n",
       "      <td>High Park North (88)</td>\n",
       "      <td>D11</td>\n",
       "      <td>2</td>\n",
       "    </tr>\n",
       "    <tr>\n",
       "      <th>2</th>\n",
       "      <td>-8.816480e+06</td>\n",
       "      <td>5.434843e+06</td>\n",
       "      <td>3388101</td>\n",
       "      <td>892810.0</td>\n",
       "      <td>2006</td>\n",
       "      <td>2006/03/11 05:00:00+00</td>\n",
       "      <td>915</td>\n",
       "      <td>MORNINGSIDE AVE</td>\n",
       "      <td>SHEPPARD AVE E</td>\n",
       "      <td>NaN</td>\n",
       "      <td>...</td>\n",
       "      <td>Yes</td>\n",
       "      <td>Yes</td>\n",
       "      <td>NaN</td>\n",
       "      <td>NaN</td>\n",
       "      <td>146</td>\n",
       "      <td>Malvern East</td>\n",
       "      <td>132</td>\n",
       "      <td>Malvern (132)</td>\n",
       "      <td>D42</td>\n",
       "      <td>3</td>\n",
       "    </tr>\n",
       "    <tr>\n",
       "      <th>3</th>\n",
       "      <td>-8.829728e+06</td>\n",
       "      <td>5.419071e+06</td>\n",
       "      <td>3389067</td>\n",
       "      <td>893184.0</td>\n",
       "      <td>2006</td>\n",
       "      <td>2006/01/01 05:00:00+00</td>\n",
       "      <td>236</td>\n",
       "      <td>WOODBINE AVE</td>\n",
       "      <td>O CONNOR DR</td>\n",
       "      <td>NaN</td>\n",
       "      <td>...</td>\n",
       "      <td>Yes</td>\n",
       "      <td>NaN</td>\n",
       "      <td>Yes</td>\n",
       "      <td>NaN</td>\n",
       "      <td>60</td>\n",
       "      <td>Woodbine-Lumsden</td>\n",
       "      <td>60</td>\n",
       "      <td>Woodbine-Lumsden (60)</td>\n",
       "      <td>D55</td>\n",
       "      <td>4</td>\n",
       "    </tr>\n",
       "    <tr>\n",
       "      <th>4</th>\n",
       "      <td>-8.816480e+06</td>\n",
       "      <td>5.434843e+06</td>\n",
       "      <td>3388102</td>\n",
       "      <td>892810.0</td>\n",
       "      <td>2006</td>\n",
       "      <td>2006/03/11 05:00:00+00</td>\n",
       "      <td>915</td>\n",
       "      <td>MORNINGSIDE AVE</td>\n",
       "      <td>SHEPPARD AVE E</td>\n",
       "      <td>NaN</td>\n",
       "      <td>...</td>\n",
       "      <td>Yes</td>\n",
       "      <td>Yes</td>\n",
       "      <td>NaN</td>\n",
       "      <td>NaN</td>\n",
       "      <td>146</td>\n",
       "      <td>Malvern East</td>\n",
       "      <td>132</td>\n",
       "      <td>Malvern (132)</td>\n",
       "      <td>D42</td>\n",
       "      <td>5</td>\n",
       "    </tr>\n",
       "  </tbody>\n",
       "</table>\n",
       "<p>5 rows × 57 columns</p>\n",
       "</div>"
      ],
      "text/plain": [
       "              X             Y   INDEX_    ACCNUM  YEAR  \\\n",
       "0 -8.844611e+06  5.412414e+06  3387730  892658.0  2006   \n",
       "1 -8.844611e+06  5.412414e+06  3387731  892658.0  2006   \n",
       "2 -8.816480e+06  5.434843e+06  3388101  892810.0  2006   \n",
       "3 -8.829728e+06  5.419071e+06  3389067  893184.0  2006   \n",
       "4 -8.816480e+06  5.434843e+06  3388102  892810.0  2006   \n",
       "\n",
       "                     DATE  TIME          STREET1         STREET2 OFFSET  ...  \\\n",
       "0  2006/03/11 05:00:00+00   852       BLOOR ST W     DUNDAS ST W    NaN  ...   \n",
       "1  2006/03/11 05:00:00+00   852       BLOOR ST W     DUNDAS ST W    NaN  ...   \n",
       "2  2006/03/11 05:00:00+00   915  MORNINGSIDE AVE  SHEPPARD AVE E    NaN  ...   \n",
       "3  2006/01/01 05:00:00+00   236     WOODBINE AVE     O CONNOR DR    NaN  ...   \n",
       "4  2006/03/11 05:00:00+00   915  MORNINGSIDE AVE  SHEPPARD AVE E    NaN  ...   \n",
       "\n",
       "  AG_DRIV REDLIGHT  ALCOHOL  DISABILITY  HOOD_158 NEIGHBOURHOOD_158 HOOD_140  \\\n",
       "0     Yes      NaN      NaN         NaN        88   High Park North       88   \n",
       "1     Yes      NaN      NaN         NaN        88   High Park North       88   \n",
       "2     Yes      Yes      NaN         NaN       146      Malvern East      132   \n",
       "3     Yes      NaN      Yes         NaN        60  Woodbine-Lumsden       60   \n",
       "4     Yes      Yes      NaN         NaN       146      Malvern East      132   \n",
       "\n",
       "       NEIGHBOURHOOD_140 DIVISION ObjectId  \n",
       "0   High Park North (88)      D11        1  \n",
       "1   High Park North (88)      D11        2  \n",
       "2          Malvern (132)      D42        3  \n",
       "3  Woodbine-Lumsden (60)      D55        4  \n",
       "4          Malvern (132)      D42        5  \n",
       "\n",
       "[5 rows x 57 columns]"
      ]
     },
     "execution_count": 3,
     "metadata": {},
     "output_type": "execute_result"
    }
   ],
   "source": [
    "df.head(5)"
   ]
  },
  {
   "cell_type": "code",
   "execution_count": 4,
   "metadata": {},
   "outputs": [
    {
     "name": "stdout",
     "output_type": "stream",
     "text": [
      "<class 'pandas.core.frame.DataFrame'>\n",
      "RangeIndex: 18194 entries, 0 to 18193\n",
      "Data columns (total 57 columns):\n",
      " #   Column             Non-Null Count  Dtype  \n",
      "---  ------             --------------  -----  \n",
      " 0   X                  18194 non-null  float64\n",
      " 1   Y                  18194 non-null  float64\n",
      " 2   INDEX_             18194 non-null  int64  \n",
      " 3   ACCNUM             13264 non-null  float64\n",
      " 4   YEAR               18194 non-null  int64  \n",
      " 5   DATE               18194 non-null  object \n",
      " 6   TIME               18194 non-null  int64  \n",
      " 7   STREET1            18194 non-null  object \n",
      " 8   STREET2            16510 non-null  object \n",
      " 9   OFFSET             3402 non-null   object \n",
      " 10  ROAD_CLASS         17818 non-null  object \n",
      " 11  DISTRICT           18089 non-null  object \n",
      " 12  WARDNUM            17332 non-null  float64\n",
      " 13  LATITUDE           18194 non-null  float64\n",
      " 14  LONGITUDE          18194 non-null  float64\n",
      " 15  LOCCOORD           18099 non-null  object \n",
      " 16  ACCLOC             12744 non-null  object \n",
      " 17  TRAFFCTL           18160 non-null  object \n",
      " 18  VISIBILITY         18174 non-null  object \n",
      " 19  LIGHT              18194 non-null  object \n",
      " 20  RDSFCOND           18169 non-null  object \n",
      " 21  ACCLASS            18189 non-null  object \n",
      " 22  IMPACTYPE          18190 non-null  object \n",
      " 23  INVTYPE            18178 non-null  object \n",
      " 24  INVAGE             18194 non-null  object \n",
      " 25  INJURY             9627 non-null   object \n",
      " 26  FATAL_NO           827 non-null    float64\n",
      " 27  INITDIR            13142 non-null  object \n",
      " 28  VEHTYPE            14966 non-null  object \n",
      " 29  MANOEUVER          10534 non-null  object \n",
      " 30  DRIVACT            9243 non-null   object \n",
      " 31  DRIVCOND           9240 non-null   object \n",
      " 32  PEDTYPE            3060 non-null   object \n",
      " 33  PEDACT             3082 non-null   object \n",
      " 34  PEDCOND            3084 non-null   object \n",
      " 35  CYCLISTYPE         774 non-null    object \n",
      " 36  CYCACT             766 non-null    object \n",
      " 37  CYCCOND            765 non-null    object \n",
      " 38  PEDESTRIAN         7354 non-null   object \n",
      " 39  CYCLIST            1906 non-null   object \n",
      " 40  AUTOMOBILE         16550 non-null  object \n",
      " 41  MOTORCYCLE         1587 non-null   object \n",
      " 42  TRUCK              1122 non-null   object \n",
      " 43  TRSN_CITY_VEH      1110 non-null   object \n",
      " 44  EMERG_VEH          43 non-null     object \n",
      " 45  PASSENGER          6906 non-null   object \n",
      " 46  SPEEDING           2575 non-null   object \n",
      " 47  AG_DRIV            9460 non-null   object \n",
      " 48  REDLIGHT           1520 non-null   object \n",
      " 49  ALCOHOL            788 non-null    object \n",
      " 50  DISABILITY         486 non-null    object \n",
      " 51  HOOD_158           18194 non-null  object \n",
      " 52  NEIGHBOURHOOD_158  18194 non-null  object \n",
      " 53  HOOD_140           18194 non-null  object \n",
      " 54  NEIGHBOURHOOD_140  18194 non-null  object \n",
      " 55  DIVISION           18194 non-null  object \n",
      " 56  ObjectId           18194 non-null  int64  \n",
      "dtypes: float64(7), int64(4), object(46)\n",
      "memory usage: 7.9+ MB\n"
     ]
    }
   ],
   "source": [
    "df.info()"
   ]
  },
  {
   "cell_type": "code",
   "execution_count": 33,
   "metadata": {},
   "outputs": [
    {
     "data": {
      "image/png": "[encoded data removed]",
      "text/plain": [
       "<Figure size 1000x500 with 1 Axes>"
      ]
     },
     "metadata": {},
     "output_type": "display_data"
    }
   ],
   "source": [
    "#plot missing values in the dataset using matplotlib, ratation of x-axis labels is set to 90 degrees\n",
    "plt.figure(figsize=(10,5))\n",
    "x = df.isnull().sum().index\n",
    "y = df.isnull().sum().values\n",
    "plt.bar(x,y)\n",
    "plt.xticks(rotation=90)\n",
    "plt.show()\n",
    "\n"
   ]
  },
  {
   "cell_type": "code",
   "execution_count": 5,
   "metadata": {},
   "outputs": [
    {
     "data": {
      "text/plain": [
       "(DISTRICT\n",
       " Toronto and East York    6125\n",
       " Etobicoke York           4207\n",
       " Scarborough              4116\n",
       " North York               3637\n",
       " Toronto East York           4\n",
       " Name: count, dtype: int64,\n",
       " 105)"
      ]
     },
     "execution_count": 5,
     "metadata": {},
     "output_type": "execute_result"
    }
   ],
   "source": [
    "df['DISTRICT'].value_counts(), df['DISTRICT'].isnull().sum()"
   ]
  },
  {
   "cell_type": "code",
   "execution_count": 6,
   "metadata": {},
   "outputs": [
    {
     "data": {
      "text/plain": [
       "(INVTYPE\n",
       " Driver                  8276\n",
       " Pedestrian              3112\n",
       " Passenger               2767\n",
       " Vehicle Owner           1637\n",
       " Cyclist                  784\n",
       " Motorcycle Driver        697\n",
       " Truck Driver             346\n",
       " Other Property Owner     257\n",
       " Other                    186\n",
       " Motorcycle Passenger      39\n",
       " Moped Driver              30\n",
       " Driver - Not Hit          17\n",
       " Wheelchair                17\n",
       " In-Line Skater             5\n",
       " Cyclist Passenger          3\n",
       " Trailer Owner              2\n",
       " Pedestrian - Not Hit       1\n",
       " Witness                    1\n",
       " Moped Passenger            1\n",
       " Name: count, dtype: int64,\n",
       " 16)"
      ]
     },
     "execution_count": 6,
     "metadata": {},
     "output_type": "execute_result"
    }
   ],
   "source": [
    "df['INVTYPE'].value_counts(), df['INVTYPE'].isnull().sum()"
   ]
  },
  {
   "cell_type": "code",
   "execution_count": 7,
   "metadata": {},
   "outputs": [
    {
     "data": {
      "text/plain": [
       "(INJURY\n",
       " Major      6151\n",
       " Minor      1422\n",
       " Minimal    1123\n",
       " Fatal       931\n",
       " Name: count, dtype: int64,\n",
       " 8567)"
      ]
     },
     "execution_count": 7,
     "metadata": {},
     "output_type": "execute_result"
    }
   ],
   "source": [
    "df['INJURY'].value_counts(), df['INJURY'].isnull().sum()"
   ]
  },
  {
   "cell_type": "code",
   "execution_count": 8,
   "metadata": {},
   "outputs": [
    {
     "data": {
      "text/plain": [
       "(FATAL_NO\n",
       " 11.0    19\n",
       " 1.0     15\n",
       " 35.0    15\n",
       " 31.0    15\n",
       " 5.0     15\n",
       "         ..\n",
       " 75.0     1\n",
       " 76.0     1\n",
       " 69.0     1\n",
       " 70.0     1\n",
       " 77.0     1\n",
       " Name: count, Length: 78, dtype: int64,\n",
       " 17367)"
      ]
     },
     "execution_count": 8,
     "metadata": {},
     "output_type": "execute_result"
    }
   ],
   "source": [
    "df['FATAL_NO'].value_counts(), df['FATAL_NO'].isnull().sum()"
   ]
  },
  {
   "cell_type": "code",
   "execution_count": 9,
   "metadata": {},
   "outputs": [
    {
     "data": {
      "text/plain": [
       "(INITDIR\n",
       " East       3260\n",
       " West       3197\n",
       " South      3106\n",
       " North      3069\n",
       " Unknown     510\n",
       " Name: count, dtype: int64,\n",
       " 5052)"
      ]
     },
     "execution_count": 9,
     "metadata": {},
     "output_type": "execute_result"
    }
   ],
   "source": [
    "df['INITDIR'].value_counts(), df['INITDIR'].isnull().sum()"
   ]
  },
  {
   "cell_type": "code",
   "execution_count": 10,
   "metadata": {},
   "outputs": [
    {
     "data": {
      "text/plain": [
       "(VEHTYPE\n",
       " Automobile, Station Wagon           7485\n",
       " Other                               4751\n",
       " Bicycle                              780\n",
       " Motorcycle                           699\n",
       " Municipal Transit Bus (TTC)          274\n",
       " Pick Up Truck                        238\n",
       " Truck - Open                         179\n",
       " Passenger Van                        132\n",
       " Delivery Van                          85\n",
       " Truck - Closed (Blazer, etc)          66\n",
       " Street Car                            48\n",
       " Truck - Dump                          42\n",
       " Truck-Tractor                         40\n",
       " Taxi                                  28\n",
       " Moped                                 24\n",
       " Truck (other)                         19\n",
       " Bus (Other) (Go Bus, Gray Coach)      17\n",
       " Intercity Bus                         14\n",
       " Truck - Tank                          11\n",
       " Tow Truck                              7\n",
       " Police Vehicle                         6\n",
       " School Bus                             6\n",
       " Construction Equipment                 4\n",
       " Fire Vehicle                           3\n",
       " Truck - Car Carrier                    2\n",
       " Railway Train                          1\n",
       " Off Road - 4 Wheels                    1\n",
       " Off Road - 2 Wheels                    1\n",
       " Ambulance                              1\n",
       " Other Emergency Vehicle                1\n",
       " Off Road - Other                       1\n",
       " Name: count, dtype: int64,\n",
       " 3228,\n",
       " <Axes: xlabel='VEHTYPE'>)"
      ]
     },
     "execution_count": 10,
     "metadata": {},
     "output_type": "execute_result"
    },
    {
     "data": {
      "image/png": "[encoded data removed]",
      "text/plain": [
       "<Figure size 640x480 with 1 Axes>"
      ]
     },
     "metadata": {},
     "output_type": "display_data"
    }
   ],
   "source": [
    "df['VEHTYPE'].value_counts(),df['VEHTYPE'].isnull().sum(), df['VEHTYPE'].value_counts().plot(kind='bar')"
   ]
  },
  {
   "cell_type": "code",
   "execution_count": 11,
   "metadata": {},
   "outputs": [
    {
     "data": {
      "text/plain": [
       "(MANOEUVER\n",
       " Going Ahead                            6269\n",
       " Turning Left                           1786\n",
       " Stopped                                 620\n",
       " Turning Right                           476\n",
       " Slowing or Stopping                     282\n",
       " Changing Lanes                          216\n",
       " Parked                                  183\n",
       " Other                                   181\n",
       " Reversing                               122\n",
       " Unknown                                 122\n",
       " Making U Turn                           106\n",
       " Overtaking                               91\n",
       " Pulling Away from Shoulder or Curb       40\n",
       " Pulling Onto Shoulder or towardCurb      18\n",
       " Merging                                  18\n",
       " Disabled                                  4\n",
       " Name: count, dtype: int64,\n",
       " 7660)"
      ]
     },
     "execution_count": 11,
     "metadata": {},
     "output_type": "execute_result"
    }
   ],
   "source": [
    "df['MANOEUVER'].value_counts(), df['MANOEUVER'].isnull().sum()"
   ]
  },
  {
   "cell_type": "code",
   "execution_count": 12,
   "metadata": {},
   "outputs": [
    {
     "data": {
      "text/plain": [
       "DRIVACT\n",
       "Driving Properly                4223\n",
       "Failed to Yield Right of Way    1541\n",
       "Lost control                     975\n",
       "Improper Turn                    573\n",
       "Other                            504\n",
       "Disobeyed Traffic Control        475\n",
       "Following too Close              251\n",
       "Exceeding Speed Limit            246\n",
       "Speed too Fast For Condition     208\n",
       "Improper Lane Change             122\n",
       "Improper Passing                 112\n",
       "Wrong Way on One Way Road          9\n",
       "Speed too Slow                     4\n",
       "Name: count, dtype: int64"
      ]
     },
     "execution_count": 12,
     "metadata": {},
     "output_type": "execute_result"
    }
   ],
   "source": [
    "df['DRIVACT'].value_counts()\n"
   ]
  },
  {
   "cell_type": "code",
   "execution_count": 13,
   "metadata": {},
   "outputs": [
    {
     "data": {
      "text/plain": [
       "(DRIVCOND\n",
       " Normal                                5849\n",
       " Inattentive                           1581\n",
       " Unknown                               1100\n",
       " Medical or Physical Disability         177\n",
       " Had Been Drinking                      163\n",
       " Ability Impaired, Alcohol Over .08     126\n",
       " Ability Impaired, Alcohol              121\n",
       " Other                                   52\n",
       " Fatigue                                 51\n",
       " Ability Impaired, Drugs                 20\n",
       " Name: count, dtype: int64,\n",
       " 8954)"
      ]
     },
     "execution_count": 13,
     "metadata": {},
     "output_type": "execute_result"
    }
   ],
   "source": [
    "df['DRIVCOND'].value_counts(), df['DRIVCOND'].isnull().sum()"
   ]
  },
  {
   "cell_type": "code",
   "execution_count": 14,
   "metadata": {},
   "outputs": [
    {
     "data": {
      "text/plain": [
       "(PEDCOND\n",
       " Normal                                1740\n",
       " Inattentive                            557\n",
       " Unknown                                366\n",
       " Had Been Drinking                      213\n",
       " Medical or Physical Disability          72\n",
       " Other                                   71\n",
       " Ability Impaired, Alcohol               41\n",
       " Ability Impaired, Alcohol Over .80      12\n",
       " Ability Impaired, Drugs                 10\n",
       " Fatigue                                  2\n",
       " Name: count, dtype: int64,\n",
       " 15110)"
      ]
     },
     "execution_count": 14,
     "metadata": {},
     "output_type": "execute_result"
    }
   ],
   "source": [
    "df['PEDCOND'].value_counts(), df['PEDCOND'].isnull().sum()"
   ]
  },
  {
   "cell_type": "code",
   "execution_count": 15,
   "metadata": {},
   "outputs": [
    {
     "data": {
      "text/plain": [
       "(PEDACT\n",
       " Crossing with right of way               970\n",
       " Crossing, no Traffic Control             716\n",
       " Crossing without right of way            420\n",
       " On Sidewalk or Shoulder                  271\n",
       " Other                                    229\n",
       " Running onto Roadway                     225\n",
       " Crossing, Pedestrian Crossover            62\n",
       " Person Getting on/off Vehicle             39\n",
       " Coming From Behind Parked Vehicle         34\n",
       " Walking on Roadway with Traffic           32\n",
       " Walking on Roadway Against Traffic        24\n",
       " Playing or Working on Highway             24\n",
       " Crossing marked crosswalk without ROW     18\n",
       " Pushing/Working on Vehicle                16\n",
       " Person Getting on/off School Bus           2\n",
       " Name: count, dtype: int64,\n",
       " 15112)"
      ]
     },
     "execution_count": 15,
     "metadata": {},
     "output_type": "execute_result"
    }
   ],
   "source": [
    "df['PEDACT'].value_counts(), df['PEDACT'].isnull().sum()"
   ]
  },
  {
   "cell_type": "code",
   "execution_count": 16,
   "metadata": {},
   "outputs": [
    {
     "data": {
      "text/plain": [
       "17429"
      ]
     },
     "execution_count": 16,
     "metadata": {},
     "output_type": "execute_result"
    }
   ],
   "source": [
    "df['CYCCOND'].isnull().sum()"
   ]
  },
  {
   "cell_type": "code",
   "execution_count": 17,
   "metadata": {},
   "outputs": [
    {
     "data": {
      "text/plain": [
       "CYCCOND\n",
       "Normal                                528\n",
       "Inattentive                           109\n",
       "Unknown                                75\n",
       "Had Been Drinking                      30\n",
       "Other                                  11\n",
       "Ability Impaired, Alcohol               4\n",
       "Medical or Physical Disability          3\n",
       "Ability Impaired, Drugs                 2\n",
       "Fatigue                                 2\n",
       "Ability Impaired, Alcohol Over .80      1\n",
       "Name: count, dtype: int64"
      ]
     },
     "execution_count": 17,
     "metadata": {},
     "output_type": "execute_result"
    }
   ],
   "source": [
    "df['CYCCOND'].value_counts()"
   ]
  },
  {
   "cell_type": "code",
   "execution_count": 18,
   "metadata": {},
   "outputs": [
    {
     "data": {
      "text/plain": [
       "Index(['X', 'Y', 'INDEX_', 'ACCNUM', 'YEAR', 'DATE', 'TIME', 'STREET1',\n",
       "       'STREET2', 'OFFSET', 'ROAD_CLASS', 'DISTRICT', 'WARDNUM', 'LATITUDE',\n",
       "       'LONGITUDE', 'LOCCOORD', 'ACCLOC', 'TRAFFCTL', 'VISIBILITY', 'LIGHT',\n",
       "       'RDSFCOND', 'ACCLASS', 'IMPACTYPE', 'INVTYPE', 'INVAGE', 'INJURY',\n",
       "       'FATAL_NO', 'INITDIR', 'VEHTYPE', 'MANOEUVER', 'DRIVACT', 'DRIVCOND',\n",
       "       'PEDTYPE', 'PEDACT', 'PEDCOND', 'CYCLISTYPE', 'CYCACT', 'CYCCOND',\n",
       "       'PEDESTRIAN', 'CYCLIST', 'AUTOMOBILE', 'MOTORCYCLE', 'TRUCK',\n",
       "       'TRSN_CITY_VEH', 'EMERG_VEH', 'PASSENGER', 'SPEEDING', 'AG_DRIV',\n",
       "       'REDLIGHT', 'ALCOHOL', 'DISABILITY', 'HOOD_158', 'NEIGHBOURHOOD_158',\n",
       "       'HOOD_140', 'NEIGHBOURHOOD_140', 'DIVISION', 'ObjectId'],\n",
       "      dtype='object')"
      ]
     },
     "execution_count": 18,
     "metadata": {},
     "output_type": "execute_result"
    }
   ],
   "source": [
    "df.columns"
   ]
  },
  {
   "cell_type": "code",
   "execution_count": 19,
   "metadata": {},
   "outputs": [
    {
     "data": {
      "text/plain": [
       "EMERG_VEH\n",
       "Yes    43\n",
       "Name: count, dtype: int64"
      ]
     },
     "execution_count": 19,
     "metadata": {},
     "output_type": "execute_result"
    }
   ],
   "source": [
    "df['EMERG_VEH'].value_counts()"
   ]
  },
  {
   "cell_type": "code",
   "execution_count": 20,
   "metadata": {},
   "outputs": [
    {
     "data": {
      "text/plain": [
       "DISABILITY\n",
       "Yes    486\n",
       "Name: count, dtype: int64"
      ]
     },
     "execution_count": 20,
     "metadata": {},
     "output_type": "execute_result"
    }
   ],
   "source": [
    "df['DISABILITY'].value_counts()"
   ]
  },
  {
   "cell_type": "code",
   "execution_count": 21,
   "metadata": {},
   "outputs": [
    {
     "data": {
      "text/plain": [
       "array(['D11', 'D42', 'D55', 'D41', 'D14', 'D22', 'D23', 'D52', 'D12',\n",
       "       'D32', 'D33', 'D43', 'D53', 'D13', 'D51', 'D31', 'NSA'],\n",
       "      dtype=object)"
      ]
     },
     "execution_count": 21,
     "metadata": {},
     "output_type": "execute_result"
    }
   ],
   "source": [
    "df['DIVISION'].unique()"
   ]
  },
  {
   "cell_type": "code",
   "execution_count": 22,
   "metadata": {},
   "outputs": [
    {
     "data": {
      "text/plain": [
       "array(['Fatal', 'Non-Fatal Injury', 'Property Damage Only', nan],\n",
       "      dtype=object)"
      ]
     },
     "execution_count": 22,
     "metadata": {},
     "output_type": "execute_result"
    }
   ],
   "source": [
    "df['ACCLASS'].unique()"
   ]
  },
  {
   "cell_type": "code",
   "execution_count": 23,
   "metadata": {},
   "outputs": [
    {
     "data": {
      "text/plain": [
       "ACCLASS\n",
       "Non-Fatal Injury        15599\n",
       "Fatal                    2573\n",
       "Property Damage Only       17\n",
       "Name: count, dtype: int64"
      ]
     },
     "execution_count": 23,
     "metadata": {},
     "output_type": "execute_result"
    }
   ],
   "source": [
    "df['ACCLASS'].value_counts()"
   ]
  },
  {
   "cell_type": "code",
   "execution_count": 24,
   "metadata": {},
   "outputs": [
    {
     "data": {
      "text/html": [
       "<div>\n",
       "<style scoped>\n",
       "    .dataframe tbody tr th:only-of-type {\n",
       "        vertical-align: middle;\n",
       "    }\n",
       "\n",
       "    .dataframe tbody tr th {\n",
       "        vertical-align: top;\n",
       "    }\n",
       "\n",
       "    .dataframe thead th {\n",
       "        text-align: right;\n",
       "    }\n",
       "</style>\n",
       "<table border=\"1\" class=\"dataframe\">\n",
       "  <thead>\n",
       "    <tr style=\"text-align: right;\">\n",
       "      <th></th>\n",
       "      <th>X</th>\n",
       "      <th>Y</th>\n",
       "      <th>INDEX_</th>\n",
       "      <th>ACCNUM</th>\n",
       "      <th>YEAR</th>\n",
       "      <th>TIME</th>\n",
       "      <th>WARDNUM</th>\n",
       "      <th>LATITUDE</th>\n",
       "      <th>LONGITUDE</th>\n",
       "      <th>FATAL_NO</th>\n",
       "      <th>ObjectId</th>\n",
       "    </tr>\n",
       "  </thead>\n",
       "  <tbody>\n",
       "    <tr>\n",
       "      <th>count</th>\n",
       "      <td>1.819400e+04</td>\n",
       "      <td>1.819400e+04</td>\n",
       "      <td>1.819400e+04</td>\n",
       "      <td>1.326400e+04</td>\n",
       "      <td>18194.000000</td>\n",
       "      <td>18194.000000</td>\n",
       "      <td>1.733200e+04</td>\n",
       "      <td>18194.000000</td>\n",
       "      <td>18194.000000</td>\n",
       "      <td>827.000000</td>\n",
       "      <td>18194.000000</td>\n",
       "    </tr>\n",
       "    <tr>\n",
       "      <th>mean</th>\n",
       "      <td>-8.838345e+06</td>\n",
       "      <td>5.420748e+06</td>\n",
       "      <td>3.818870e+07</td>\n",
       "      <td>4.248444e+08</td>\n",
       "      <td>2012.934869</td>\n",
       "      <td>1362.615917</td>\n",
       "      <td>2.521028e+03</td>\n",
       "      <td>43.710459</td>\n",
       "      <td>-79.396201</td>\n",
       "      <td>29.073761</td>\n",
       "      <td>9097.500000</td>\n",
       "    </tr>\n",
       "    <tr>\n",
       "      <th>std</th>\n",
       "      <td>1.162533e+04</td>\n",
       "      <td>8.682160e+03</td>\n",
       "      <td>3.726463e+07</td>\n",
       "      <td>1.065503e+09</td>\n",
       "      <td>4.754258</td>\n",
       "      <td>630.816048</td>\n",
       "      <td>1.844803e+05</td>\n",
       "      <td>0.056369</td>\n",
       "      <td>0.104432</td>\n",
       "      <td>17.803627</td>\n",
       "      <td>5252.299734</td>\n",
       "    </tr>\n",
       "    <tr>\n",
       "      <th>min</th>\n",
       "      <td>-8.865305e+06</td>\n",
       "      <td>5.402162e+06</td>\n",
       "      <td>3.363207e+06</td>\n",
       "      <td>2.530100e+04</td>\n",
       "      <td>2006.000000</td>\n",
       "      <td>0.000000</td>\n",
       "      <td>1.000000e+00</td>\n",
       "      <td>43.589678</td>\n",
       "      <td>-79.638390</td>\n",
       "      <td>1.000000</td>\n",
       "      <td>1.000000</td>\n",
       "    </tr>\n",
       "    <tr>\n",
       "      <th>25%</th>\n",
       "      <td>-8.846591e+06</td>\n",
       "      <td>5.413242e+06</td>\n",
       "      <td>5.391370e+06</td>\n",
       "      <td>1.021229e+06</td>\n",
       "      <td>2009.000000</td>\n",
       "      <td>920.000000</td>\n",
       "      <td>7.000000e+00</td>\n",
       "      <td>43.661727</td>\n",
       "      <td>-79.470280</td>\n",
       "      <td>14.000000</td>\n",
       "      <td>4549.250000</td>\n",
       "    </tr>\n",
       "    <tr>\n",
       "      <th>50%</th>\n",
       "      <td>-8.838448e+06</td>\n",
       "      <td>5.419556e+06</td>\n",
       "      <td>7.644612e+06</td>\n",
       "      <td>1.197308e+06</td>\n",
       "      <td>2012.000000</td>\n",
       "      <td>1450.000000</td>\n",
       "      <td>1.300000e+01</td>\n",
       "      <td>43.702745</td>\n",
       "      <td>-79.397132</td>\n",
       "      <td>28.000000</td>\n",
       "      <td>9097.500000</td>\n",
       "    </tr>\n",
       "    <tr>\n",
       "      <th>75%</th>\n",
       "      <td>-8.829671e+06</td>\n",
       "      <td>5.427813e+06</td>\n",
       "      <td>8.078261e+07</td>\n",
       "      <td>1.365020e+06</td>\n",
       "      <td>2017.000000</td>\n",
       "      <td>1850.000000</td>\n",
       "      <td>2.200000e+01</td>\n",
       "      <td>43.756345</td>\n",
       "      <td>-79.318286</td>\n",
       "      <td>42.000000</td>\n",
       "      <td>13645.750000</td>\n",
       "    </tr>\n",
       "    <tr>\n",
       "      <th>max</th>\n",
       "      <td>-8.807929e+06</td>\n",
       "      <td>5.443099e+06</td>\n",
       "      <td>8.170606e+07</td>\n",
       "      <td>4.008024e+09</td>\n",
       "      <td>2022.000000</td>\n",
       "      <td>2359.000000</td>\n",
       "      <td>1.716222e+07</td>\n",
       "      <td>43.855445</td>\n",
       "      <td>-79.122974</td>\n",
       "      <td>78.000000</td>\n",
       "      <td>18194.000000</td>\n",
       "    </tr>\n",
       "  </tbody>\n",
       "</table>\n",
       "</div>"
      ],
      "text/plain": [
       "                  X             Y        INDEX_        ACCNUM          YEAR  \\\n",
       "count  1.819400e+04  1.819400e+04  1.819400e+04  1.326400e+04  18194.000000   \n",
       "mean  -8.838345e+06  5.420748e+06  3.818870e+07  4.248444e+08   2012.934869   \n",
       "std    1.162533e+04  8.682160e+03  3.726463e+07  1.065503e+09      4.754258   \n",
       "min   -8.865305e+06  5.402162e+06  3.363207e+06  2.530100e+04   2006.000000   \n",
       "25%   -8.846591e+06  5.413242e+06  5.391370e+06  1.021229e+06   2009.000000   \n",
       "50%   -8.838448e+06  5.419556e+06  7.644612e+06  1.197308e+06   2012.000000   \n",
       "75%   -8.829671e+06  5.427813e+06  8.078261e+07  1.365020e+06   2017.000000   \n",
       "max   -8.807929e+06  5.443099e+06  8.170606e+07  4.008024e+09   2022.000000   \n",
       "\n",
       "               TIME       WARDNUM      LATITUDE     LONGITUDE    FATAL_NO  \\\n",
       "count  18194.000000  1.733200e+04  18194.000000  18194.000000  827.000000   \n",
       "mean    1362.615917  2.521028e+03     43.710459    -79.396201   29.073761   \n",
       "std      630.816048  1.844803e+05      0.056369      0.104432   17.803627   \n",
       "min        0.000000  1.000000e+00     43.589678    -79.638390    1.000000   \n",
       "25%      920.000000  7.000000e+00     43.661727    -79.470280   14.000000   \n",
       "50%     1450.000000  1.300000e+01     43.702745    -79.397132   28.000000   \n",
       "75%     1850.000000  2.200000e+01     43.756345    -79.318286   42.000000   \n",
       "max     2359.000000  1.716222e+07     43.855445    -79.122974   78.000000   \n",
       "\n",
       "           ObjectId  \n",
       "count  18194.000000  \n",
       "mean    9097.500000  \n",
       "std     5252.299734  \n",
       "min        1.000000  \n",
       "25%     4549.250000  \n",
       "50%     9097.500000  \n",
       "75%    13645.750000  \n",
       "max    18194.000000  "
      ]
     },
     "execution_count": 24,
     "metadata": {},
     "output_type": "execute_result"
    }
   ],
   "source": [
    "df.describe()"
   ]
  },
  {
   "cell_type": "code",
   "execution_count": 25,
   "metadata": {},
   "outputs": [
    {
     "ename": "KeyError",
     "evalue": "'MONTH'",
     "output_type": "error",
     "traceback": [
      "\u001b[1;31m---------------------------------------------------------------------------\u001b[0m",
      "\u001b[1;31mKeyError\u001b[0m                                  Traceback (most recent call last)",
      "File \u001b[1;32mc:\\ProgramData\\anaconda3\\Lib\\site-packages\\pandas\\core\\indexes\\base.py:3653\u001b[0m, in \u001b[0;36mIndex.get_loc\u001b[1;34m(self, key)\u001b[0m\n\u001b[0;32m   3652\u001b[0m \u001b[38;5;28;01mtry\u001b[39;00m:\n\u001b[1;32m-> 3653\u001b[0m     \u001b[38;5;28;01mreturn\u001b[39;00m \u001b[38;5;28;43mself\u001b[39;49m\u001b[38;5;241;43m.\u001b[39;49m\u001b[43m_engine\u001b[49m\u001b[38;5;241;43m.\u001b[39;49m\u001b[43mget_loc\u001b[49m\u001b[43m(\u001b[49m\u001b[43mcasted_key\u001b[49m\u001b[43m)\u001b[49m\n\u001b[0;32m   3654\u001b[0m \u001b[38;5;28;01mexcept\u001b[39;00m \u001b[38;5;167;01mKeyError\u001b[39;00m \u001b[38;5;28;01mas\u001b[39;00m err:\n",
      "File \u001b[1;32mc:\\ProgramData\\anaconda3\\Lib\\site-packages\\pandas\\_libs\\index.pyx:147\u001b[0m, in \u001b[0;36mpandas._libs.index.IndexEngine.get_loc\u001b[1;34m()\u001b[0m\n",
      "File \u001b[1;32mc:\\ProgramData\\anaconda3\\Lib\\site-packages\\pandas\\_libs\\index.pyx:176\u001b[0m, in \u001b[0;36mpandas._libs.index.IndexEngine.get_loc\u001b[1;34m()\u001b[0m\n",
      "File \u001b[1;32mpandas\\_libs\\hashtable_class_helper.pxi:7080\u001b[0m, in \u001b[0;36mpandas._libs.hashtable.PyObjectHashTable.get_item\u001b[1;34m()\u001b[0m\n",
      "File \u001b[1;32mpandas\\_libs\\hashtable_class_helper.pxi:7088\u001b[0m, in \u001b[0;36mpandas._libs.hashtable.PyObjectHashTable.get_item\u001b[1;34m()\u001b[0m\n",
      "\u001b[1;31mKeyError\u001b[0m: 'MONTH'",
      "\nThe above exception was the direct cause of the following exception:\n",
      "\u001b[1;31mKeyError\u001b[0m                                  Traceback (most recent call last)",
      "Cell \u001b[1;32mIn[25], line 4\u001b[0m\n\u001b[0;32m      2\u001b[0m df[\u001b[38;5;124m'\u001b[39m\u001b[38;5;124mYEAR\u001b[39m\u001b[38;5;124m'\u001b[39m]\u001b[38;5;241m.\u001b[39mvalue_counts()\u001b[38;5;241m.\u001b[39mplot(kind\u001b[38;5;241m=\u001b[39m\u001b[38;5;124m'\u001b[39m\u001b[38;5;124mbar\u001b[39m\u001b[38;5;124m'\u001b[39m)\n\u001b[0;32m      3\u001b[0m \u001b[38;5;66;03m# plot count row group by month\u001b[39;00m\n\u001b[1;32m----> 4\u001b[0m \u001b[43mdf\u001b[49m\u001b[43m[\u001b[49m\u001b[38;5;124;43m'\u001b[39;49m\u001b[38;5;124;43mMONTH\u001b[39;49m\u001b[38;5;124;43m'\u001b[39;49m\u001b[43m]\u001b[49m\u001b[38;5;241m.\u001b[39mvalue_counts()\u001b[38;5;241m.\u001b[39mplot(kind\u001b[38;5;241m=\u001b[39m\u001b[38;5;124m'\u001b[39m\u001b[38;5;124mbar\u001b[39m\u001b[38;5;124m'\u001b[39m)\n",
      "File \u001b[1;32mc:\\ProgramData\\anaconda3\\Lib\\site-packages\\pandas\\core\\frame.py:3761\u001b[0m, in \u001b[0;36mDataFrame.__getitem__\u001b[1;34m(self, key)\u001b[0m\n\u001b[0;32m   3759\u001b[0m \u001b[38;5;28;01mif\u001b[39;00m \u001b[38;5;28mself\u001b[39m\u001b[38;5;241m.\u001b[39mcolumns\u001b[38;5;241m.\u001b[39mnlevels \u001b[38;5;241m>\u001b[39m \u001b[38;5;241m1\u001b[39m:\n\u001b[0;32m   3760\u001b[0m     \u001b[38;5;28;01mreturn\u001b[39;00m \u001b[38;5;28mself\u001b[39m\u001b[38;5;241m.\u001b[39m_getitem_multilevel(key)\n\u001b[1;32m-> 3761\u001b[0m indexer \u001b[38;5;241m=\u001b[39m \u001b[38;5;28;43mself\u001b[39;49m\u001b[38;5;241;43m.\u001b[39;49m\u001b[43mcolumns\u001b[49m\u001b[38;5;241;43m.\u001b[39;49m\u001b[43mget_loc\u001b[49m\u001b[43m(\u001b[49m\u001b[43mkey\u001b[49m\u001b[43m)\u001b[49m\n\u001b[0;32m   3762\u001b[0m \u001b[38;5;28;01mif\u001b[39;00m is_integer(indexer):\n\u001b[0;32m   3763\u001b[0m     indexer \u001b[38;5;241m=\u001b[39m [indexer]\n",
      "File \u001b[1;32mc:\\ProgramData\\anaconda3\\Lib\\site-packages\\pandas\\core\\indexes\\base.py:3655\u001b[0m, in \u001b[0;36mIndex.get_loc\u001b[1;34m(self, key)\u001b[0m\n\u001b[0;32m   3653\u001b[0m     \u001b[38;5;28;01mreturn\u001b[39;00m \u001b[38;5;28mself\u001b[39m\u001b[38;5;241m.\u001b[39m_engine\u001b[38;5;241m.\u001b[39mget_loc(casted_key)\n\u001b[0;32m   3654\u001b[0m \u001b[38;5;28;01mexcept\u001b[39;00m \u001b[38;5;167;01mKeyError\u001b[39;00m \u001b[38;5;28;01mas\u001b[39;00m err:\n\u001b[1;32m-> 3655\u001b[0m     \u001b[38;5;28;01mraise\u001b[39;00m \u001b[38;5;167;01mKeyError\u001b[39;00m(key) \u001b[38;5;28;01mfrom\u001b[39;00m \u001b[38;5;21;01merr\u001b[39;00m\n\u001b[0;32m   3656\u001b[0m \u001b[38;5;28;01mexcept\u001b[39;00m \u001b[38;5;167;01mTypeError\u001b[39;00m:\n\u001b[0;32m   3657\u001b[0m     \u001b[38;5;66;03m# If we have a listlike key, _check_indexing_error will raise\u001b[39;00m\n\u001b[0;32m   3658\u001b[0m     \u001b[38;5;66;03m#  InvalidIndexError. Otherwise we fall through and re-raise\u001b[39;00m\n\u001b[0;32m   3659\u001b[0m     \u001b[38;5;66;03m#  the TypeError.\u001b[39;00m\n\u001b[0;32m   3660\u001b[0m     \u001b[38;5;28mself\u001b[39m\u001b[38;5;241m.\u001b[39m_check_indexing_error(key)\n",
      "\u001b[1;31mKeyError\u001b[0m: 'MONTH'"
     ]
    },
    {
     "data": {
      "image/png": "[encoded data removed]",
      "text/plain": [
       "<Figure size 640x480 with 1 Axes>"
      ]
     },
     "metadata": {},
     "output_type": "display_data"
    }
   ],
   "source": [
    "# plot count row group by year \n",
    "df['YEAR'].value_counts().plot(kind='bar')\n",
    "# plot count row group by month\n",
    "df['MONTH'].value_counts().plot(kind='bar')\n",
    "\n"
   ]
  },
  {
   "cell_type": "code",
   "execution_count": null,
   "metadata": {},
   "outputs": [],
   "source": []
  },
  {
   "cell_type": "code",
   "execution_count": null,
   "metadata": {},
   "outputs": [],
   "source": []
  },
  {
   "cell_type": "code",
   "execution_count": null,
   "metadata": {},
   "outputs": [],
   "source": []
  }
 ],
 "metadata": {
  "kernelspec": {
   "display_name": "base",
   "language": "python",
   "name": "python3"
  },
  "language_info": {
   "codemirror_mode": {
    "name": "ipython",
    "version": 3
   },
   "file_extension": ".py",
   "mimetype": "text/x-python",
   "name": "python",
   "nbconvert_exporter": "python",
   "pygments_lexer": "ipython3",
   "version": "3.11.4"
  }
 },
 "nbformat": 4,
 "nbformat_minor": 2
}
